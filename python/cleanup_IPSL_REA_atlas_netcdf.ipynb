{
 "cells": [
  {
   "cell_type": "markdown",
   "metadata": {},
   "source": [
    "## Cleaning up Atlas data - IPSL REA\n",
    "**Function**      : Preprocess netCDF files and restructure the dataset<br>\n",
    "**Description**   : In this notebook serves to clean up Atlas data which is given in netcdf format and aggregate the data into a single file.<br>\n",
    "**Return Values   : .nc files**<br>\n",
    "**Note**          : All the data is saved to netCDF4 format. Note that data from different models may vary concerning the resolution and coordinates.<br>"
   ]
  },
  {
   "cell_type": "code",
   "execution_count": 1,
   "metadata": {},
   "outputs": [],
   "source": [
    "import os\n",
    "from pathlib import Path\n",
    "import numpy as np\n",
    "import xarray as xr\n",
    "import pandas as pd\n",
    "from netCDF4 import Dataset"
   ]
  },
  {
   "cell_type": "markdown",
   "metadata": {},
   "source": [
    "### Path\n",
    "Specify the path to the dataset and the place to save the outputs. <br>"
   ]
  },
  {
   "cell_type": "code",
   "execution_count": 2,
   "metadata": {},
   "outputs": [],
   "source": [
    "# please specify data path\n",
    "datapath = './AtlasData/raw'\n",
    "\n",
    "# please specify output path\n",
    "output_path = './preprocess'\n",
    "os.makedirs(output_path, exist_ok = True)"
   ]
  },
  {
   "cell_type": "markdown",
   "metadata": {},
   "source": [
    "Components used to create the output file names. Here, only `institution_id` and `cmor_var` is based on on CMIP DRS conventions."
   ]
  },
  {
   "cell_type": "code",
   "execution_count": 3,
   "metadata": {
    "tags": []
   },
   "outputs": [],
   "source": [
    "output_file_name = {\n",
    "    \"prefix\": \"atlas\",\n",
    "    \"activity\": \"EUCP\", # project name e.g. EUCP\n",
    "    \"institution_id\": \"IPSL\", # IPSL\n",
    "    \"source\": \"CORDEX\", # e.g. CMIP5, CMIP6 or CORDEX\n",
    "    \"method\": \"REA\", # e.g. REA\n",
    "    \"sub_method\": \"cons\", # e.g. cons or uncons\n",
    "    \"cmor_var\": \"tas\", # e.g. tas or pr\n",
    "}"
   ]
  },
  {
   "cell_type": "code",
   "execution_count": 4,
   "metadata": {
    "tags": []
   },
   "outputs": [],
   "source": [
    "# CORDEX mask nc file\n",
    "MASK_PATH = f\"{datapath}/IPSL_REA/region_mask_NEU-CEU-MED_land.nc\"\n",
    "dataset_mask = Dataset(MASK_PATH)"
   ]
  },
  {
   "cell_type": "markdown",
   "metadata": {},
   "source": [
    "### Load and process raw data"
   ]
  },
  {
   "cell_type": "markdown",
   "metadata": {},
   "source": [
    "Make some functions to combining multiple dimensions with a preprocessor and load data"
   ]
  },
  {
   "cell_type": "code",
   "execution_count": 5,
   "metadata": {},
   "outputs": [],
   "source": [
    "def add_percentile(ds):\n",
    "    filename = ds.encoding[\"source\"]\n",
    "    percentile = int(filename.split('_')[-2])\n",
    "    dataset, variable, future, _, reference, percentile, season = filename.split('_')[-7:]\n",
    "    return(ds\n",
    "           .drop_vars('height', errors='ignore')\n",
    "           .assign_coords(percentile=int(percentile)).expand_dims('percentile')\n",
    "          )\n",
    "\n",
    "# data loader and batch processing\n",
    "def load_data(project, season, variable):\n",
    "    # open multiple files with xarray\n",
    "    ds = xr.open_mfdataset(str(Path(datapath, 'IPSL_REA', f'eur_{project}_{variable}_2041-2060_vs_1995-2014_*_{season}.nc')),\n",
    "                       preprocess=add_percentile)\n",
    "    weighted = ds[f'{variable}_weighted'].rename(variable).assign_coords(constrained=1).expand_dims('constrained')\n",
    "    unweighted = ds[f'{variable}_unweighted'].rename(variable).assign_coords(constrained=0).expand_dims('constrained')    \n",
    "    return xr.concat([weighted, unweighted], dim='constrained')"
   ]
  },
  {
   "cell_type": "markdown",
   "metadata": {},
   "source": [
    "Call functions"
   ]
  },
  {
   "cell_type": "code",
   "execution_count": 6,
   "metadata": {},
   "outputs": [
    {
     "data": {
      "text/plain": [
       "{'CMIP5': <xarray.Dataset>\n",
       " Dimensions:      (lon: 20, lat: 17, percentile: 5, constrained: 2, season: 2)\n",
       " Coordinates:\n",
       "   * lon          (lon) float64 -8.75 -6.25 -3.75 -1.25 ... 33.75 36.25 38.75\n",
       "   * lat          (lat) float64 31.25 33.75 36.25 38.75 ... 66.25 68.75 71.25\n",
       "   * percentile   (percentile) int64 10 25 50 75 90\n",
       "   * constrained  (constrained) int64 1 0\n",
       "   * season       (season) <U3 'DJF' 'JJA'\n",
       " Data variables:\n",
       "     tas          (season, constrained, percentile, lat, lon) float64 dask.array<chunksize=(1, 1, 1, 17, 20), meta=np.ndarray>\n",
       "     pr           (season, constrained, percentile, lat, lon) float64 dask.array<chunksize=(1, 1, 1, 17, 20), meta=np.ndarray>,\n",
       " 'CMIP6': <xarray.Dataset>\n",
       " Dimensions:      (lon: 20, lat: 17, percentile: 5, constrained: 2, season: 2)\n",
       " Coordinates:\n",
       "   * lon          (lon) float64 -8.75 -6.25 -3.75 -1.25 ... 33.75 36.25 38.75\n",
       "   * lat          (lat) float64 31.25 33.75 36.25 38.75 ... 66.25 68.75 71.25\n",
       "   * percentile   (percentile) int64 10 25 50 75 90\n",
       "   * constrained  (constrained) int64 1 0\n",
       "   * season       (season) <U3 'DJF' 'JJA'\n",
       " Data variables:\n",
       "     tas          (season, constrained, percentile, lat, lon) float32 dask.array<chunksize=(1, 1, 1, 17, 20), meta=np.ndarray>\n",
       "     pr           (season, constrained, percentile, lat, lon) float64 dask.array<chunksize=(1, 1, 1, 17, 20), meta=np.ndarray>\n",
       " Attributes:\n",
       "     standard_name:  air_temperature\n",
       "     long_name:      Near-Surface Air Temperature\n",
       "     units:          K\n",
       "     comment:        near-surface (usually, 2 meter) air temperature\n",
       "     original_name:  temp2\n",
       "     cell_methods:   area: time: mean\n",
       "     cell_measures:  area: areacella\n",
       "     history:        2019-05-02T11:50:26Z altered by CMOR: Treated scalar dime...,\n",
       " 'CORDEX': <xarray.Dataset>\n",
       " Dimensions:      (percentile: 5, constrained: 2, season: 2, lat: 412, lon: 424)\n",
       " Coordinates:\n",
       "   * percentile   (percentile) int64 10 25 50 75 90\n",
       "   * constrained  (constrained) int64 1 0\n",
       "   * season       (season) <U3 'DJF' 'JJA'\n",
       " Dimensions without coordinates: lat, lon\n",
       " Data variables:\n",
       "     tas          (season, constrained, percentile, lat, lon) float64 dask.array<chunksize=(1, 1, 1, 412, 424), meta=np.ndarray>\n",
       "     pr           (season, constrained, percentile, lat, lon) float64 dask.array<chunksize=(1, 1, 1, 412, 424), meta=np.ndarray>\n",
       " Attributes:\n",
       "     standard_name:        longitude\n",
       "     long_name:            longitude\n",
       "     units:                degrees_east\n",
       "     _CoordinateAxisType:  Lon}"
      ]
     },
     "execution_count": 6,
     "metadata": {},
     "output_type": "execute_result"
    }
   ],
   "source": [
    "ipsl_rea_ds = {}\n",
    "for source in [\"CMIP5\", \"CMIP6\", \"CORDEX\"]:\n",
    "    seasons = []\n",
    "    for season in ['DJF', 'JJA']:\n",
    "        tas = load_data(source, season, 'tas')\n",
    "        pr = load_data(source, season, 'pr')\n",
    "        ds = xr.merge([tas, pr]).assign_coords(season=season)\n",
    "        seasons.append(ds)\n",
    "    ipsl_rea_ds[source] = xr.concat(seasons, dim='season')\n",
    "ipsl_rea_ds"
   ]
  },
  {
   "cell_type": "markdown",
   "metadata": {},
   "source": [
    "Make some metadata. Here, we follow CF-conventions as much as possible."
   ]
  },
  {
   "cell_type": "code",
   "execution_count": 7,
   "metadata": {},
   "outputs": [],
   "source": [
    "attrs = {\"tas\" : {\"description\":\"Change in Air Temperature\",\n",
    "            \"standard_name\":\"Change in Air Temperature\",\n",
    "            \"long_name\": \"Change in Near-Surface Air Temperature\",\n",
    "            \"units\": \"K\", # in line with raw data\n",
    "            \"cell_methods\":\"time: mean changes over 20 years 2041-2060 vs 1995-2014\",\n",
    "           },\n",
    "         \"pr\" : {\"description\":\"Relative precipitation\",\n",
    "            \"standard_name\":\"Relative precipitation\",\n",
    "            \"long_name\": \"Relative precipitation\",\n",
    "            \"units\": \"%\", # in line with raw data\n",
    "            \"cell_methods\":\"time: mean changes over 20 years 2041-2060 vs 1995-2014\",\n",
    "           },\n",
    "         \"latitude\": {\"units\": \"degrees_north\", \"long_name\": \"latitude\", \"axis\": \"Y\"},\n",
    "         \"longitude\": {\"units\": \"degrees_east\", \"long_name\": \"longitude\", \"axis\": \"X\"},\n",
    "         \"time\": {\"climatology\": \"climatology_bounds\",\n",
    "                  \"long_name\": \"time\",\n",
    "                  \"axis\": \"T\",\n",
    "                  \"climatology_bounds\": ['2050-6-1', '2050-9-1', '2050-12-1', '2051-3-1'],\n",
    "                  \"description\": \"mean changes over 20 years 2041-2060 vs 1995-2014. The mid point 2050 is chosen as the representative time.\"},\n",
    "         \"percentile\": {\"units\": \"%\", \"long_name\": \"percentile\", \"axis\": \"Z\"},\n",
    "}\n",
    "                "
   ]
  },
  {
   "cell_type": "markdown",
   "metadata": {},
   "source": [
    "### Assemble data and save to netcdf"
   ]
  },
  {
   "cell_type": "markdown",
   "metadata": {},
   "source": [
    "Make a function to assemble and save data "
   ]
  },
  {
   "cell_type": "code",
   "execution_count": 17,
   "metadata": {},
   "outputs": [],
   "source": [
    "TIMES =  {\"JJA\": \"2050-7-16\", \"DJF\": \"2051-1-16\"} # \"0000-4-16\", \"0000-7-16\", \"0000-10-16\", \"0000-1-16\" MAM JJA SON DJF\n",
    "PERCENTILES = [10, 25, 50, 75, 90]\n",
    "\n",
    "def assembly(project, ds_original, var, cons):\n",
    "    \"\"\"\n",
    "    Select data from original nc files and save the target fields.\n",
    "    \"\"\"\n",
    "    if project == \"CORDEX\":\n",
    "        LAT = dataset_mask.variables['lat'][:, 0]\n",
    "        LON = dataset_mask.variables['lon'][0, :]\n",
    "    else:\n",
    "        LAT = ds_original.coords['lat'].values\n",
    "        LON = ds_original.coords['lon'].values\n",
    "    ds_target = xr.Dataset(\n",
    "                {var: ((\"time\", \"latitude\", \"longitude\",\"percentile\"),\n",
    "                 np.full([len(TIMES), len(LAT), len(LON), len(PERCENTILES)], np.nan)),\n",
    "                \"climatology_bounds\": (pd.to_datetime(['2050-6-1', '2050-9-1', '2050-12-1', '2051-3-1']))},\n",
    "                coords={    \n",
    "                        \"time\": pd.to_datetime(list(TIMES.values())),\n",
    "                        \"latitude\": LAT,\n",
    "                        \"longitude\": LON, \n",
    "                        \"percentile\": PERCENTILES,\n",
    "                 },\n",
    "                 attrs={\"description\": \"Contains modified IPSL REA data used for Atlas in EUCP project.\",\n",
    "                       \"history\": f\"original IPSL REA data files eur_{project}_{var}_2041-2060_vs_1995-2014_*_DJF.nc, eur_{project}_{var}_2041-2060_vs_1995-2014_*_JJA.nc\"}\n",
    "    )\n",
    "    for season in [\"JJA\", \"DJF\"]:\n",
    "        for j, p in enumerate(PERCENTILES):\n",
    "            ds_target[var].values[list(TIMES).index(season),:,:,j] = ds_original[var].sel(percentile=p, season=season, constrained=cons).values\n",
    "    return ds_target"
   ]
  },
  {
   "cell_type": "markdown",
   "metadata": {},
   "source": [
    "Call the function"
   ]
  },
  {
   "cell_type": "code",
   "execution_count": 18,
   "metadata": {},
   "outputs": [
    {
     "name": "stdout",
     "output_type": "stream",
     "text": [
      "one dataset is saved to atlas_EUCP_IPSL_CMIP5_REA_uncons_tas.nc\n",
      "one dataset is saved to atlas_EUCP_IPSL_CMIP5_REA_cons_tas.nc\n",
      "one dataset is saved to atlas_EUCP_IPSL_CMIP5_REA_uncons_pr.nc\n",
      "one dataset is saved to atlas_EUCP_IPSL_CMIP5_REA_cons_pr.nc\n",
      "one dataset is saved to atlas_EUCP_IPSL_CMIP6_REA_uncons_tas.nc\n",
      "one dataset is saved to atlas_EUCP_IPSL_CMIP6_REA_cons_tas.nc\n",
      "one dataset is saved to atlas_EUCP_IPSL_CMIP6_REA_uncons_pr.nc\n",
      "one dataset is saved to atlas_EUCP_IPSL_CMIP6_REA_cons_pr.nc\n",
      "one dataset is saved to atlas_EUCP_IPSL_CORDEX_REA_uncons_tas.nc\n",
      "one dataset is saved to atlas_EUCP_IPSL_CORDEX_REA_cons_tas.nc\n",
      "one dataset is saved to atlas_EUCP_IPSL_CORDEX_REA_uncons_pr.nc\n",
      "one dataset is saved to atlas_EUCP_IPSL_CORDEX_REA_cons_pr.nc\n"
     ]
    }
   ],
   "source": [
    "for source in [\"CMIP5\", \"CMIP6\", \"CORDEX\"]:\n",
    "    output_file_name[\"source\"] = source\n",
    "    for VAR_NAME in [\"tas\", \"pr\"]:\n",
    "        output_file_name[\"cmor_var\"] = VAR_NAME \n",
    "        for projection_ind, projection in enumerate([\"uncons\",\"cons\"]):\n",
    "            output_file_name[\"sub_method\"] = projection\n",
    "            new_ds = assembly(source, ipsl_rea_ds[source], VAR_NAME, projection_ind)\n",
    "\n",
    "            # Fix attributes\n",
    "            for key in new_ds.keys():\n",
    "                new_ds[key].attrs = attrs[key]\n",
    "\n",
    "            file_name = f\"{'_'.join(output_file_name.values())}.nc\"\n",
    "            print(f\"one dataset is saved to {file_name}\")\n",
    "            new_ds.to_netcdf(os.path.join(output_path, file_name))"
   ]
  },
  {
   "cell_type": "markdown",
   "metadata": {},
   "source": [
    "### Check output"
   ]
  },
  {
   "cell_type": "markdown",
   "metadata": {},
   "source": [
    "Load one of the saved data."
   ]
  },
  {
   "cell_type": "code",
   "execution_count": null,
   "metadata": {},
   "outputs": [],
   "source": []
  }
 ],
 "metadata": {
  "interpreter": {
   "hash": "90e02b2587fbb2ca467fc85381f5522fddb4a9e5fbb8605712260c849ecf752b"
  },
  "kernelspec": {
   "display_name": "Python 3 (ipykernel)",
   "language": "python",
   "name": "python3"
  },
  "language_info": {
   "codemirror_mode": {
    "name": "ipython",
    "version": 3
   },
   "file_extension": ".py",
   "mimetype": "text/x-python",
   "name": "python",
   "nbconvert_exporter": "python",
   "pygments_lexer": "ipython3",
   "version": "3.9.7"
  }
 },
 "nbformat": 4,
 "nbformat_minor": 4
}
