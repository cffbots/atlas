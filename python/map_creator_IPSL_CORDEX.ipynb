{
 "cells": [
  {
   "cell_type": "markdown",
   "metadata": {},
   "source": [
    "## Cleaning up Atlas data - IPSL CORDEX\n",
    "**Function**      : Preprocess netCDF files and restructure the dataset<br>\n",
    "**Author          : Team BETA**<br>\n",
    "**First Built**   : 2021.10.15<br>\n",
    "**Last Update     : 2021.11.01**<br>\n",
    "**Library**       : os, numpy, netcdf4, xarray<br>\n",
    "**Description**   : In this notebook serves to clean up Atlas data which is given in netcdf format and aggregate the data into a single file.<br>\n",
    "**Return Values   : .nc files**<br>\n",
    "**Note**          : All the data is saved to netCDF4 format. Note that CORDEX data has unstructured grid (curvilinear). It must be treated differently from IPSL REA data. And the batch processing script can not be applied. All the maps based on CORDEX will be generated using this notebook. <br>"
   ]
  },
  {
   "cell_type": "code",
   "execution_count": 1,
   "metadata": {},
   "outputs": [],
   "source": [
    "import os\n",
    "import numpy as np\n",
    "import xarray as xr\n",
    "from pathlib import Path\n",
    "from netCDF4 import Dataset\n",
    "import cartopy.crs as ccrs\n",
    "import matplotlib.pyplot as plt\n",
    "from textwrap import wrap"
   ]
  },
  {
   "cell_type": "code",
   "execution_count": 2,
   "metadata": {},
   "outputs": [],
   "source": [
    "# please specify data path\n",
    "datapath = '/mnt/d/NLeSC/BETA/EUCP/Atlas'\n",
    "# please specify output path\n",
    "output_path = '../assets/processed_figures'\n",
    "os.makedirs(output_path, exist_ok = True)\n",
    "\n",
    "# load mask info for cordex data\n",
    "dataset_mask = Dataset(Path(datapath,'IPSL_REA',\n",
    "                            'region_mask_NEU-CEU-MED_land.nc')) # xarray cannot work with lat lon with more than 1-dimension\n",
    "mask = dataset_mask.variables['region_mask'][:]\n",
    "# coordinate info for cordex data\n",
    "mask_lat = dataset_mask.variables['lat'][:]\n",
    "mask_lon = dataset_mask.variables['lon'][:]"
   ]
  },
  {
   "cell_type": "code",
   "execution_count": 3,
   "metadata": {},
   "outputs": [],
   "source": [
    "def plot(data, lat, lon, mask, variable, \n",
    "         season, constrained, percentile, output_path):\n",
    "    \"\"\"\n",
    "    Plot relative precipitation and temperature using cartopy.\n",
    "    \"\"\"\n",
    "    #mask the input fields\n",
    "    data_mask = np.ma.masked_where(mask == 0, data)\n",
    "    # plot fig\n",
    "    fig = plt.figure(figsize=(12.8, 9.6))\n",
    "    ax = plt.axes(projection=ccrs.PlateCarree())\n",
    "    # East, West, South, Nouth\n",
    "    ax.set_extent([-10, 40, 30, 75], ccrs.PlateCarree())\n",
    "    ax.coastlines(resolution='110m', color='black', linewidth=2)\n",
    "    gl = ax.gridlines(crs=ccrs.PlateCarree(), draw_labels=True,\n",
    "                      linewidth=1, color='gray', alpha=0.5, linestyle='--')\n",
    "    gl.top_labels = False\n",
    "    gl.bottom_labels = True\n",
    "    gl.left_labels = True\n",
    "    gl.right_labels = False\n",
    "    gl.xlines = False\n",
    "    gl.ylines = False\n",
    "    gl.xlabel_style = {'size': 20, 'color': 'black'}\n",
    "    gl.ylabel_style = {'size': 20, 'color': 'black'}\n",
    "    if variable == \"pr\":\n",
    "        cs = plt.pcolormesh(lon, lat, data_mask, cmap=\"BrBG\", vmin=-50, vmax=50)\n",
    "    elif variable == \"tas\":\n",
    "        cs = plt.pcolormesh(lon, lat, data_mask, cmap=\"YlOrRd\", vmin=0, vmax=5)\n",
    "    cbar = fig.colorbar(cs, extend='both', orientation='vertical',\n",
    "                        shrink=0.8, pad=0.08, spacing=\"uniform\")\n",
    "    cbar.ax.tick_params(labelsize=20)\n",
    "    if variable == \"pr\":\n",
    "        ax.set_title(\"\\n\".join(wrap(\n",
    "            f'REA {constrained} {season.lower()} relative precipitation projections (%) - {percentile}th percentile projected changes for 2050 with respect to present-day climate', 60)), fontsize=20)\n",
    "    elif variable == \"tas\":\n",
    "        ax.set_title(\"\\n\".join(wrap(\n",
    "            f'REA {constrained} {season.lower()} temperature projections (degC) - {percentile}th percentile projected changes for 2050 with respect to present-day climate', 60)), fontsize=20)\n",
    "    # plt.show()\n",
    "    fig.savefig(Path(output_path,\n",
    "                f\"eur_REA_{variable}_41-60_{season.lower()}_cordex_{percentile}perc_{constrained}.png\"),\n",
    "                facecolor='white', dpi=150, transparent=False)\n",
    "    plt.close(fig)"
   ]
  },
  {
   "cell_type": "code",
   "execution_count": 4,
   "metadata": {},
   "outputs": [],
   "source": [
    "def load_data(percentile, season, variable):\n",
    "    cordex_data = Dataset(Path(datapath,'IPSL_REA',\n",
    "                          f'eur_CORDEX_{variable}_2041-2060_vs_1995-2014_{percentile}_{season}.nc'))\n",
    "    cordex_field_cons = cordex_data[f'{variable}_weighted'][:]\n",
    "    cordex_field_uncons = cordex_data[f'{variable}_unweighted'][:]\n",
    "    plot(cordex_field_cons, mask_lat, mask_lon, mask, variable,\n",
    "         season, 'cons', percentile, output_path)\n",
    "    plot(cordex_field_uncons, mask_lat, mask_lon, mask, variable,\n",
    "         season, 'uncons', percentile, output_path)"
   ]
  },
  {
   "cell_type": "code",
   "execution_count": 5,
   "metadata": {},
   "outputs": [
    {
     "name": "stderr",
     "output_type": "stream",
     "text": [
      "/home/yangliu/miniconda3/lib/python3.8/site-packages/cartopy/mpl/geoaxes.py:1597: UserWarning: The input coordinates to pcolormesh are interpreted as cell centers, but are not monotonically increasing or decreasing. This may lead to incorrectly calculated cell edges, in which case, please supply explicit cell edges to pcolormesh.\n",
      "  X, Y, C, shading = self._pcolorargs('pcolormesh', *args,\n"
     ]
    }
   ],
   "source": [
    "# call the function to load the files and generate maps\n",
    "for season in ['DJF', 'JJA']:\n",
    "    for percentile in [10, 25, 50, 75, 90]:\n",
    "        load_data(percentile, season, 'tas')\n",
    "        load_data(percentile, season, 'pr')"
   ]
  },
  {
   "cell_type": "markdown",
   "metadata": {},
   "source": [
    "### Pre-check the curvilinear grid and transform data to the target projection\n",
    "Plot the mask using iris package, to handle the curvilinear grid."
   ]
  }
 ],
 "metadata": {
  "interpreter": {
   "hash": "e7604e8ec5f09e490e10161e37a4725039efd3ab703d81b1b8a1e00d6741866c"
  },
  "kernelspec": {
   "display_name": "Python 3.8.5 64-bit ('base': conda)",
   "name": "python3"
  },
  "language_info": {
   "codemirror_mode": {
    "name": "ipython",
    "version": 3
   },
   "file_extension": ".py",
   "mimetype": "text/x-python",
   "name": "python",
   "nbconvert_exporter": "python",
   "pygments_lexer": "ipython3",
   "version": "3.8.5"
  },
  "orig_nbformat": 4
 },
 "nbformat": 4,
 "nbformat_minor": 2
}
